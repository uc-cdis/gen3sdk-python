{
 "cells": [
  {
   "cell_type": "markdown",
   "metadata": {},
   "source": [
    "Import the Gen3 SDK Download Manager and the Manifest loader."
   ]
  },
  {
   "cell_type": "code",
   "execution_count": 1,
   "metadata": {},
   "outputs": [],
   "source": [
    "from gen3.auth import Gen3Auth\n",
    "from gen3.tools.download.drs_download import (\n",
    "    Manifest,\n",
    "    DownloadManager\n",
    ")"
   ]
  },
  {
   "cell_type": "markdown",
   "source": [
    "Load the manifest. While the manifest is loaded it is possible that\n",
    "the datafile are unresolved, which means that the information about file needs to\n",
    "be gathered from the DRS services."
   ],
   "metadata": {
    "collapsed": false
   }
  },
  {
   "cell_type": "code",
   "execution_count": 2,
   "metadata": {},
   "outputs": [
    {
     "name": "stdout",
     "output_type": "stream",
     "text": [
      "                                not available     -1 bytes not resolved not available\n",
      "                                not available     -1 bytes not resolved not available\n",
      "                                not available     -1 bytes not resolved not available\n",
      "                                not available     -1 bytes not resolved not available\n",
      "                                not available     -1 bytes not resolved not available\n"
     ]
    }
   ],
   "source": [
    "datafiles = Manifest.load('sample/manifest_1.json')\n",
    "\n",
    "for i in datafiles:\n",
    "    print(i)"
   ]
  },
  {
   "cell_type": "markdown",
   "source": [
    "Let's create a download manager, we will pass our datafile list to it. It will\n",
    "resolve the object information."
   ],
   "metadata": {
    "collapsed": false,
    "pycharm": {
     "name": "#%% md\n"
    }
   },
   "outputs": [
    {
     "ename": "SyntaxError",
     "evalue": "EOL while scanning string literal (865251008.py, line 1)",
     "output_type": "error",
     "traceback": [
      "\u001B[0;36m  File \u001B[0;32m\"/var/folders/ff/8vbbbt1d1xqc57fw0040s8m00000gn/T/ipykernel_20579/865251008.py\"\u001B[0;36m, line \u001B[0;32m1\u001B[0m\n\u001B[0;31m    Let's create a download manager, we will pass our datafile list to it. It will\u001B[0m\n\u001B[0m                                                                                  ^\u001B[0m\n\u001B[0;31mSyntaxError\u001B[0m\u001B[0;31m:\u001B[0m EOL while scanning string literal\n"
     ]
    }
   ]
  },
  {
   "cell_type": "code",
   "execution_count": 3,
   "metadata": {},
   "outputs": [
    {
     "name": "stdout",
     "output_type": "stream",
     "text": [
      "       JCOIN_NORC_Omnibus_SURVEY1_Feb2020.sav      1.57 MB jcoin.datacommons.io 03/26/2021, 21:08:26\n",
      "     JCOIN_NORC_Omnibus_SURVEY2_April2020.sav    313.52 KB jcoin.datacommons.io 04/06/2021, 16:40:05\n",
      "      JCOIN_NORC_Omnibus_SURVEY3_June2020.sav    370.29 KB jcoin.datacommons.io 04/06/2021, 16:40:14\n",
      "       JCOIN_NORC_Omnibus_SURVEY4_Oct2020.sav    367.99 KB jcoin.datacommons.io 04/06/2021, 16:40:21\n",
      "                              EC01_2018_C.csv    128.64 KB jcoin.datacommons.io 05/08/2021, 14:11:26\n"
     ]
    }
   ],
   "source": [
    "downloadManager = DownloadManager(\"preprod.healdata.org\", Gen3Auth(), datafiles)\n",
    "\n",
    "for i in datafiles:\n",
    "    print(i)"
   ]
  },
  {
   "cell_type": "markdown",
   "source": [
    "Now that the datafile objects have been resolved. You can download them:"
   ],
   "metadata": {
    "collapsed": false,
    "pycharm": {
     "name": "#%% md\n"
    }
   }
  },
  {
   "cell_type": "code",
   "execution_count": 4,
   "metadata": {
    "pycharm": {
     "name": "#%%\n"
    }
   },
   "outputs": [
    {
     "name": "stderr",
     "output_type": "stream",
     "text": [
      "JCOIN_NORC_Omnibus_SURVEY1_Feb2020.sav       : 100%|███████████████████████████████████████████████████████████████████████████| 1.57M/1.57M [00:01<00:00, 1.08MiB/s]\n",
      "JCOIN_NORC_Omnibus_SURVEY2_April2020.sav     : 100%|███████████████████████████████████████████████████████████████████████████| 314k/314k [00:00<00:00, 563kiB/s] \n",
      "JCOIN_NORC_Omnibus_SURVEY3_June2020.sav      : 100%|███████████████████████████████████████████████████████████████████████████| 370k/370k [00:00<00:00, 2.18MiB/s]\n",
      "JCOIN_NORC_Omnibus_SURVEY4_Oct2020.sav       : 100%|███████████████████████████████████████████████████████████████████████████| 368k/368k [00:00<00:00, 2.89MiB/s]\n",
      "EC01_2018_C.csv                              : 100%|███████████████████████████████████████████████████████████████████████████| 129k/129k [00:00<00:00, 1.32MiB/s]\n"
     ]
    }
   ],
   "source": [
    "downloadManager.download(datafiles, \".\")"
   ]
  },
  {
   "cell_type": "markdown",
   "source": [
    "Note you can download them as soon as you create the downloadManager instance.\n",
    "You can also filter the datafiles to just the ones you want and download a subset.\n",
    "Once a download object is resolved it can be downloaded directly.\n",
    "For example if you wanted to filter by file type (csv) you could do the following:"
   ],
   "metadata": {
    "collapsed": false,
    "pycharm": {
     "name": "#%% md\n"
    }
   }
  },
  {
   "cell_type": "code",
   "execution_count": 6,
   "outputs": [
    {
     "name": "stderr",
     "output_type": "stream",
     "text": [
      "EC01_2018_C.csv                              : 100%|███████████████████████████████████████████████████████████████████████████| 129k/129k [00:00<00:00, 1.47MiB/s]\n"
     ]
    }
   ],
   "source": [
    "for file in datafiles:\n",
    "    if '.csv' in file.file_name:\n",
    "        file.download()"
   ],
   "metadata": {
    "collapsed": false,
    "pycharm": {
     "name": "#%%\n"
    }
   }
  }
 ],
 "metadata": {
  "kernelspec": {
   "display_name": "Python 3 (ipykernel)",
   "language": "python",
   "name": "python3"
  },
  "language_info": {
   "codemirror_mode": {
    "name": "ipython",
    "version": 3
   },
   "file_extension": ".py",
   "mimetype": "text/x-python",
   "name": "python",
   "nbconvert_exporter": "python",
   "pygments_lexer": "ipython3",
   "version": "3.8.10"
  }
 },
 "nbformat": 4,
 "nbformat_minor": 1
}