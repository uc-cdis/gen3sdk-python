{
 "cells": [
  {
   "cell_type": "markdown",
   "metadata": {},
   "source": [
    "Import the Gen3 SDK Download Manager and the Manifest loader."
   ]
  },
  {
   "cell_type": "code",
   "execution_count": 3,
   "metadata": {},
   "outputs": [],
   "source": [
    "from gen3.auth import Gen3Auth\n",
    "from gen3.tools.download.drs_download import (\n",
    "    Manifest,\n",
    "    DownloadManager\n",
    ")"
   ]
  },
  {
   "cell_type": "markdown",
   "metadata": {},
   "source": [
    "Load the manifest. While the manifest is loaded it is possible that\n",
    "the datafile are unresolved, which means that the information about file needs to\n",
    "be gathered from the DRS services."
   ]
  },
  {
   "cell_type": "code",
   "execution_count": 4,
   "metadata": {},
   "outputs": [
    {
     "name": "stdout",
     "output_type": "stream",
     "text": [
      "                                not available     -1 bytes not resolved not available\n",
      "                                not available     -1 bytes not resolved not available\n",
      "                                not available     -1 bytes not resolved not available\n",
      "                                not available     -1 bytes not resolved not available\n",
      "                                not available     -1 bytes not resolved not available\n"
     ]
    }
   ],
   "source": [
    "datafiles = Manifest.load('sample/manifest_1.json')\n",
    "\n",
    "for i in datafiles:\n",
    "    print(i)"
   ]
  },
  {
   "cell_type": "markdown",
   "metadata": {
    "pycharm": {
     "name": "#%% md\n"
    }
   },
   "source": [
    "Let's create a download manager, we will pass our datafile list to it. It will\n",
    "resolve the object information."
   ]
  },
  {
   "cell_type": "code",
   "execution_count": 6,
   "metadata": {},
   "outputs": [
    {
     "name": "stdout",
     "output_type": "stream",
     "text": [
      "       JCOIN_NORC_Omnibus_SURVEY1_Feb2020.sav      1.57 MB jcoin.datacommons.io 03/26/2021, 21:08:26\n",
      "     JCOIN_NORC_Omnibus_SURVEY2_April2020.sav    313.52 KB jcoin.datacommons.io 04/06/2021, 16:40:05\n",
      "      JCOIN_NORC_Omnibus_SURVEY3_June2020.sav    370.29 KB jcoin.datacommons.io 04/06/2021, 16:40:14\n",
      "       JCOIN_NORC_Omnibus_SURVEY4_Oct2020.sav    367.99 KB jcoin.datacommons.io 04/06/2021, 16:40:21\n",
      "                              EC01_2018_C.csv    128.64 KB jcoin.datacommons.io 05/08/2021, 14:11:26\n"
     ]
    }
   ],
   "source": [
    "downloadManager = DownloadManager(\"healdata.org\", Gen3Auth(refresh_file=\"/Users/criagbarnes/.gen3/heal.json\"), datafiles)\n",
    "\n",
    "for i in datafiles:\n",
    "    print(i)"
   ]
  },
  {
   "cell_type": "markdown",
   "metadata": {
    "pycharm": {
     "name": "#%% md\n"
    }
   },
   "source": [
    "Now that the datafile objects have been resolved. You can download them:"
   ]
  },
  {
   "cell_type": "code",
   "execution_count": 7,
   "metadata": {
    "pycharm": {
     "name": "#%%\n"
    }
   },
   "outputs": [
    {
     "name": "stderr",
     "output_type": "stream",
     "text": [
      "JCOIN_NORC_Omnibus_SURVEY1_Feb2020.sav       : 100%|███████████████████████████████████| 1.57M/1.57M [00:00<00:00, 2.19MiB/s]\n",
      "JCOIN_NORC_Omnibus_SURVEY2_April2020.sav     : 100%|███████████████████████████████████| 314k/314k [00:00<00:00, 2.69MiB/s]\n",
      "JCOIN_NORC_Omnibus_SURVEY3_June2020.sav      : 100%|███████████████████████████████████| 370k/370k [00:00<00:00, 3.19MiB/s]\n",
      "JCOIN_NORC_Omnibus_SURVEY4_Oct2020.sav       : 100%|███████████████████████████████████| 368k/368k [00:00<00:00, 3.20MiB/s]\n",
      "EC01_2018_C.csv                              : 100%|███████████████████████████████████| 129k/129k [00:00<00:00, 1.69MiB/s]\n"
     ]
    },
    {
     "data": {
      "text/plain": [
       "{'dg.6VTS/b96018c5-db06-4af8-a195-28e339ba815e': filename: JCOIN_NORC_Omnibus_SURVEY1_Feb2020.sav status: downloaded startTime: 10/13/2021, 21:23:13 endTime: 10/13/2021, 21:23:14,\n",
       " 'dg.6VTS/6d3eb293-8388-4c5d-83ef-d0c2bd5ba604': filename: JCOIN_NORC_Omnibus_SURVEY2_April2020.sav status: downloaded startTime: 10/13/2021, 21:23:15 endTime: 10/13/2021, 21:23:15,\n",
       " 'dg.6VTS/6f9a924f-9d83-4597-8f66-fe7d3021729f': filename: JCOIN_NORC_Omnibus_SURVEY3_June2020.sav status: downloaded startTime: 10/13/2021, 21:23:16 endTime: 10/13/2021, 21:23:16,\n",
       " 'dg.6VTS/0e618fef-e359-424b-b844-0ca320105176': filename: JCOIN_NORC_Omnibus_SURVEY4_Oct2020.sav status: downloaded startTime: 10/13/2021, 21:23:16 endTime: 10/13/2021, 21:23:16,\n",
       " 'dg.6VTS/0b9ba42d-5d54-4308-bd49-47b4512d3ff6': filename: EC01_2018_C.csv status: downloaded startTime: 10/13/2021, 21:23:17 endTime: 10/13/2021, 21:23:17}"
      ]
     },
     "execution_count": 7,
     "metadata": {},
     "output_type": "execute_result"
    }
   ],
   "source": [
    "downloadManager.download(datafiles, \".\")"
   ]
  },
  {
   "cell_type": "markdown",
   "metadata": {
    "pycharm": {
     "name": "#%% md\n"
    }
   },
   "source": [
    "Note you can download them as soon as you create the downloadManager instance.\n",
    "You can also filter the datafiles to just the ones you want and download a subset.\n",
    "Once a download object is resolved it can be downloaded directly.\n",
    "For example if you wanted to filter by file type (csv) you could do the following:"
   ]
  },
  {
   "cell_type": "code",
   "execution_count": 8,
   "metadata": {
    "pycharm": {
     "name": "#%%\n"
    }
   },
   "outputs": [
    {
     "name": "stderr",
     "output_type": "stream",
     "text": [
      "EC01_2018_C.csv                              : 100%|███████████████████████████████████| 129k/129k [00:00<00:00, 1.71MiB/s]\n"
     ]
    }
   ],
   "source": [
    "for file in datafiles:\n",
    "    if '.csv' in file.file_name:\n",
    "        file.download()"
   ]
  },
  {
   "cell_type": "code",
   "execution_count": null,
   "metadata": {},
   "outputs": [],
   "source": []
  },
  {
   "cell_type": "code",
   "execution_count": null,
   "metadata": {},
   "outputs": [],
   "source": []
  }
 ],
 "metadata": {
  "kernelspec": {
   "display_name": "Python 3 (ipykernel)",
   "language": "python",
   "name": "python3"
  },
  "language_info": {
   "codemirror_mode": {
    "name": "ipython",
    "version": 3
   },
   "file_extension": ".py",
   "mimetype": "text/x-python",
   "name": "python",
   "nbconvert_exporter": "python",
   "pygments_lexer": "ipython3",
   "version": "3.8.10"
  }
 },
 "nbformat": 4,
 "nbformat_minor": 1
}